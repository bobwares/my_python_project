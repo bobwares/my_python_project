{
 "cells": [
  {
   "cell_type": "code",
   "execution_count": null,
   "id": "initial_id",
   "metadata": {
    "collapsed": true,
    "is_executing": true
   },
   "outputs": [],
   "source": [
    "pip install pandas numpy matplotlib seaborn statsmodels\n",
    "\n"
   ]
  },
  {
   "cell_type": "code",
   "outputs": [
    {
     "data": {
      "text/plain": "   loan_id  original_balance  interest_rate  fico_score        ltv  \\\n0        1          212000.0       4.449678         692  60.921924   \n1        2          197000.0       4.212317         714  71.396150   \n2        3          216000.0       3.779815         688  75.863945   \n3        4          238000.0       3.426532         707  98.876877   \n4        5          194000.0       4.099112         644  85.565531   \n\n   age_in_months  prepaid  \n0             51        1  \n1            266        1  \n2            120        1  \n3            200        1  \n4            248        0  ",
      "text/html": "<div>\n<style scoped>\n    .dataframe tbody tr th:only-of-type {\n        vertical-align: middle;\n    }\n\n    .dataframe tbody tr th {\n        vertical-align: top;\n    }\n\n    .dataframe thead th {\n        text-align: right;\n    }\n</style>\n<table border=\"1\" class=\"dataframe\">\n  <thead>\n    <tr style=\"text-align: right;\">\n      <th></th>\n      <th>loan_id</th>\n      <th>original_balance</th>\n      <th>interest_rate</th>\n      <th>fico_score</th>\n      <th>ltv</th>\n      <th>age_in_months</th>\n      <th>prepaid</th>\n    </tr>\n  </thead>\n  <tbody>\n    <tr>\n      <th>0</th>\n      <td>1</td>\n      <td>212000.0</td>\n      <td>4.449678</td>\n      <td>692</td>\n      <td>60.921924</td>\n      <td>51</td>\n      <td>1</td>\n    </tr>\n    <tr>\n      <th>1</th>\n      <td>2</td>\n      <td>197000.0</td>\n      <td>4.212317</td>\n      <td>714</td>\n      <td>71.396150</td>\n      <td>266</td>\n      <td>1</td>\n    </tr>\n    <tr>\n      <th>2</th>\n      <td>3</td>\n      <td>216000.0</td>\n      <td>3.779815</td>\n      <td>688</td>\n      <td>75.863945</td>\n      <td>120</td>\n      <td>1</td>\n    </tr>\n    <tr>\n      <th>3</th>\n      <td>4</td>\n      <td>238000.0</td>\n      <td>3.426532</td>\n      <td>707</td>\n      <td>98.876877</td>\n      <td>200</td>\n      <td>1</td>\n    </tr>\n    <tr>\n      <th>4</th>\n      <td>5</td>\n      <td>194000.0</td>\n      <td>4.099112</td>\n      <td>644</td>\n      <td>85.565531</td>\n      <td>248</td>\n      <td>0</td>\n    </tr>\n  </tbody>\n</table>\n</div>"
     },
     "execution_count": 1,
     "metadata": {},
     "output_type": "execute_result"
    }
   ],
   "source": [
    "# Loan Performance Analysis in Python\n",
    "\n",
    "# Import core libraries\n",
    "import pandas as pd\n",
    "import numpy as np\n",
    "import matplotlib.pyplot as plt\n",
    "import seaborn as sns\n",
    "import statsmodels.api as sm\n",
    "\n",
    "# Load mock dataset (pretend mortgage loan data)\n",
    "# Columns: loan_id, original_balance, interest_rate, fico_score, ltv, age_in_months, prepaid\n",
    "np.random.seed(42)\n",
    "n = 1000\n",
    "\n",
    "df = pd.DataFrame({\n",
    "    \"loan_id\": range(1, n+1),\n",
    "    \"original_balance\": np.random.normal(200000, 25000, n).round(-3),\n",
    "    \"interest_rate\": np.random.normal(3.75, 0.5, n),\n",
    "    \"fico_score\": np.random.normal(720, 40, n).astype(int),\n",
    "    \"ltv\": np.random.normal(80, 10, n).clip(50, 100),\n",
    "    \"age_in_months\": np.random.randint(1, 360, n),\n",
    "    \"prepaid\": np.random.binomial(1, 0.2, n)  # 20% prepayment rate\n",
    "})\n",
    "\n",
    "# Preview data\n",
    "df.head()\n"
   ],
   "metadata": {
    "collapsed": false,
    "ExecuteTime": {
     "end_time": "2025-05-13T14:12:11.400291Z",
     "start_time": "2025-05-13T14:12:10.590685Z"
    }
   },
   "id": "bb39b6538ff94696",
   "execution_count": 1
  },
  {
   "cell_type": "code",
   "outputs": [],
   "source": [],
   "metadata": {
    "collapsed": false
   },
   "id": "2eeeb1c52dd91326"
  }
 ],
 "metadata": {
  "kernelspec": {
   "display_name": "Python 3",
   "language": "python",
   "name": "python3"
  },
  "language_info": {
   "codemirror_mode": {
    "name": "ipython",
    "version": 2
   },
   "file_extension": ".py",
   "mimetype": "text/x-python",
   "name": "python",
   "nbconvert_exporter": "python",
   "pygments_lexer": "ipython2",
   "version": "2.7.6"
  }
 },
 "nbformat": 4,
 "nbformat_minor": 5
}
